{
 "cells": [
  {
   "cell_type": "code",
   "execution_count": 2,
   "metadata": {},
   "outputs": [],
   "source": [
    "%load_ext autoreload\n",
    "%autoreload 2"
   ]
  },
  {
   "cell_type": "code",
   "execution_count": 3,
   "metadata": {},
   "outputs": [],
   "source": [
    "from filtermui import add_mui_filters"
   ]
  },
  {
   "cell_type": "code",
   "execution_count": 4,
   "metadata": {},
   "outputs": [],
   "source": [
    "from typing import (\n",
    "    Any,\n",
    "    Callable,\n",
    "    Dict,\n",
    "    List,\n",
    "    TypeVar,\n",
    ")\n",
    "\n",
    "from django.db import models\n",
    "\n",
    "_T = TypeVar(\"_T\", bound=models.Model, covariant=True)\n",
    "_Row = TypeVar(\"_Row\", covariant=True)\n",
    "_QS = TypeVar(\"_QS\", bound=\"QuerySetFaker\")\n",
    "\n",
    "\n",
    "class QuerySetFaker:\n",
    "    def __init__(self) -> None:\n",
    "        self.called_functions: List[Callable] = []\n",
    "\n",
    "    def filter(self: _QS, *args: Any, **kwargs: Any) -> _QS:\n",
    "        self.called_functions.append({\"type\": \"filter\", \"args\": args, \"kwargs\": kwargs})\n",
    "        return self\n",
    "\n",
    "    def exclude(self: _QS, *args: Any, **kwargs: Any) -> _QS:\n",
    "        self.called_functions.append(\n",
    "            {\"type\": \"exclude\", \"args\": args, \"kwargs\": kwargs}\n",
    "        )\n",
    "        return self\n"
   ]
  },
  {
   "cell_type": "code",
   "execution_count": 6,
   "metadata": {},
   "outputs": [
    {
     "name": "stdout",
     "output_type": "stream",
     "text": [
      "<__main__.QuerySetFaker object at 0x00000251E6061750>\n",
      "None\n"
     ]
    },
    {
     "ename": "AttributeError",
     "evalue": "'NoneType' object has no attribute 'exclude'",
     "output_type": "error",
     "traceback": [
      "\u001b[1;31m---------------------------------------------------------------------------\u001b[0m",
      "\u001b[1;31mAttributeError\u001b[0m                            Traceback (most recent call last)",
      "\u001b[1;32mC:\\Users\\MAXLAZ~1\\AppData\\Local\\Temp/ipykernel_15636/3797355028.py\u001b[0m in \u001b[0;36m<module>\u001b[1;34m\u001b[0m\n\u001b[0;32m      1\u001b[0m \u001b[0mquery\u001b[0m \u001b[1;33m=\u001b[0m \u001b[1;34m'{ \"items\": [ { \"id\": 1, \"columnField\": \"timeoutId\", \"operatorValue\": \"not\", \"value\": \"de\" }, { \"id\": 1, \"columnField\": \"timeoutId\", \"operatorValue\": \"not\", \"value\": \"re\" } ], \"linkOperator\": \"and\" }'\u001b[0m\u001b[1;33m\u001b[0m\u001b[1;33m\u001b[0m\u001b[0m\n\u001b[0;32m      2\u001b[0m \u001b[0mfaker\u001b[0m \u001b[1;33m=\u001b[0m \u001b[0mQuerySetFaker\u001b[0m\u001b[1;33m(\u001b[0m\u001b[1;33m)\u001b[0m\u001b[1;33m\u001b[0m\u001b[1;33m\u001b[0m\u001b[0m\n\u001b[1;32m----> 3\u001b[1;33m \u001b[0mqs\u001b[0m \u001b[1;33m=\u001b[0m \u001b[0madd_mui_filters\u001b[0m\u001b[1;33m(\u001b[0m\u001b[0mfaker\u001b[0m\u001b[1;33m,\u001b[0m \u001b[0mquery\u001b[0m\u001b[1;33m)\u001b[0m\u001b[1;33m\u001b[0m\u001b[1;33m\u001b[0m\u001b[0m\n\u001b[0m",
      "\u001b[1;32mc:\\Users\\Max Lazarre\\OneDrive\\filter-mui\\filtermui\\muifilter.py\u001b[0m in \u001b[0;36madd_mui_filters\u001b[1;34m(query_set, mui_filter_model, column_field_mappings)\u001b[0m\n\u001b[0;32m     44\u001b[0m             \u001b[1;32melse\u001b[0m\u001b[1;33m:\u001b[0m\u001b[1;33m\u001b[0m\u001b[1;33m\u001b[0m\u001b[0m\n\u001b[0;32m     45\u001b[0m                 \u001b[0mprint\u001b[0m\u001b[1;33m(\u001b[0m\u001b[0mquery_set\u001b[0m\u001b[1;33m)\u001b[0m\u001b[1;33m\u001b[0m\u001b[1;33m\u001b[0m\u001b[0m\n\u001b[1;32m---> 46\u001b[1;33m                 \u001b[0mquery_set\u001b[0m \u001b[1;33m=\u001b[0m \u001b[0mquery_set\u001b[0m\u001b[1;33m.\u001b[0m\u001b[0mexclude\u001b[0m\u001b[1;33m(\u001b[0m\u001b[1;33m**\u001b[0m\u001b[0mdict_filter\u001b[0m\u001b[1;33m)\u001b[0m\u001b[1;33m\u001b[0m\u001b[1;33m\u001b[0m\u001b[0m\n\u001b[0m\u001b[0;32m     47\u001b[0m \u001b[1;33m\u001b[0m\u001b[0m\n\u001b[0;32m     48\u001b[0m     \u001b[1;32mreturn\u001b[0m \u001b[0mquery_set\u001b[0m\u001b[1;33m\u001b[0m\u001b[1;33m\u001b[0m\u001b[0m\n",
      "\u001b[1;31mAttributeError\u001b[0m: 'NoneType' object has no attribute 'exclude'"
     ]
    }
   ],
   "source": [
    "query = '{ \"items\": [ { \"id\": 1, \"columnField\": \"timeoutId\", \"operatorValue\": \"not\", \"value\": \"de\" }, { \"id\": 1, \"columnField\": \"timeoutId\", \"operatorValue\": \"not\", \"value\": \"re\" } ], \"linkOperator\": \"and\" }'\n",
    "faker = QuerySetFaker()\n",
    "qs = add_mui_filters(faker, query)"
   ]
  },
  {
   "cell_type": "code",
   "execution_count": 21,
   "metadata": {},
   "outputs": [
    {
     "data": {
      "text/plain": [
       "[{'type': 'filter',\n",
       "  'args': (<Q: (OR: (NOT (AND: ('timeout_id__iexact', 'de'))), (NOT (AND: ('timeout_id__iexact', 're'))))>,),\n",
       "  'kwargs': {}}]"
      ]
     },
     "execution_count": 21,
     "metadata": {},
     "output_type": "execute_result"
    }
   ],
   "source": [
    "faker.called_functions"
   ]
  }
 ],
 "metadata": {
  "interpreter": {
   "hash": "029eec2a3b168cb92ab6e107d56b937953aeffe03ee001fd6a092b5115a1f756"
  },
  "kernelspec": {
   "display_name": "Python 3.10.1 64-bit",
   "language": "python",
   "name": "python3"
  },
  "language_info": {
   "codemirror_mode": {
    "name": "ipython",
    "version": 3
   },
   "file_extension": ".py",
   "mimetype": "text/x-python",
   "name": "python",
   "nbconvert_exporter": "python",
   "pygments_lexer": "ipython3",
   "version": "3.10.1"
  },
  "orig_nbformat": 4
 },
 "nbformat": 4,
 "nbformat_minor": 2
}
