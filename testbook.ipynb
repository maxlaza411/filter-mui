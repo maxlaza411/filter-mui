{
 "cells": [
  {
   "cell_type": "code",
   "execution_count": 2,
   "metadata": {},
   "outputs": [],
   "source": [
    "%load_ext autoreload\n",
    "%autoreload 2"
   ]
  },
  {
   "cell_type": "code",
   "execution_count": 12,
   "metadata": {},
   "outputs": [],
   "source": [
    "from filtermui import add_mui_filters"
   ]
  },
  {
   "cell_type": "code",
   "execution_count": 13,
   "metadata": {},
   "outputs": [],
   "source": [
    "from typing import (\n",
    "    Any,\n",
    "    Callable,\n",
    "    Dict,\n",
    "    List,\n",
    "    TypeVar,\n",
    ")\n",
    "\n",
    "from django.db import models\n",
    "\n",
    "_T = TypeVar(\"_T\", bound=models.Model, covariant=True)\n",
    "_Row = TypeVar(\"_Row\", covariant=True)\n",
    "_QS = TypeVar(\"_QS\", bound=\"QuerySetFaker\")\n",
    "\n",
    "\n",
    "class QuerySetFaker:\n",
    "    def __init__(self) -> None:\n",
    "        self.called_functions: List[Callable] = []\n",
    "\n",
    "    def filter(self: _QS, *args: Any, **kwargs: Any) -> _QS:\n",
    "        self.called_functions.append({\"type\": \"filter\", \"args\": args, \"kwargs\": kwargs})\n",
    "\n",
    "    def exclude(self: _QS, *args: Any, **kwargs: Any) -> _QS:\n",
    "        self.called_functions.append(\n",
    "            {\"type\": \"exclude\", \"args\": args, \"kwargs\": kwargs}\n",
    "        )\n"
   ]
  },
  {
   "cell_type": "code",
   "execution_count": 20,
   "metadata": {},
   "outputs": [],
   "source": [
    "query = '{ \"items\": [ { \"id\": 1, \"columnField\": \"timeoutId\", \"operatorValue\": \"not\", \"value\": \"de\" }, { \"id\": 1, \"columnField\": \"timeoutId\", \"operatorValue\": \"not\", \"value\": \"re\" } ], \"linkOperator\": \"or\" }'\n",
    "faker = QuerySetFaker()\n",
    "qs = add_mui_filters(faker, query)"
   ]
  },
  {
   "cell_type": "code",
   "execution_count": 21,
   "metadata": {},
   "outputs": [
    {
     "data": {
      "text/plain": [
       "[{'type': 'filter',\n",
       "  'args': (<Q: (OR: (NOT (AND: ('timeout_id__iexact', 'de'))), (NOT (AND: ('timeout_id__iexact', 're'))))>,),\n",
       "  'kwargs': {}}]"
      ]
     },
     "execution_count": 21,
     "metadata": {},
     "output_type": "execute_result"
    }
   ],
   "source": [
    "faker.called_functions"
   ]
  }
 ],
 "metadata": {
  "interpreter": {
   "hash": "029eec2a3b168cb92ab6e107d56b937953aeffe03ee001fd6a092b5115a1f756"
  },
  "kernelspec": {
   "display_name": "Python 3.10.1 64-bit",
   "language": "python",
   "name": "python3"
  },
  "language_info": {
   "codemirror_mode": {
    "name": "ipython",
    "version": 3
   },
   "file_extension": ".py",
   "mimetype": "text/x-python",
   "name": "python",
   "nbconvert_exporter": "python",
   "pygments_lexer": "ipython3",
   "version": "3.10.1"
  },
  "orig_nbformat": 4
 },
 "nbformat": 4,
 "nbformat_minor": 2
}
